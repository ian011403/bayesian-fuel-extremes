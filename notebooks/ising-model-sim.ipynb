{
 "cells": [
  {
   "cell_type": "markdown",
   "id": "a34477ef",
   "metadata": {},
   "source": [
    "## Ising Model Simulation and Bayesian Inference"
   ]
  },
  {
   "cell_type": "markdown",
   "id": "f9ca2a95",
   "metadata": {},
   "source": [
    "## Libraries"
   ]
  },
  {
   "cell_type": "code",
   "execution_count": 8,
   "id": "d2deb8b5",
   "metadata": {},
   "outputs": [],
   "source": [
    "import numpy as np\n",
    "import matplotlib.pyplot as plt\n",
    "from matplotlib import cm\n",
    "from itertools import product\n",
    "from collections import Counter\n",
    "import pickle\n",
    "import os\n",
    "os.chdir(\"../\")"
   ]
  },
  {
   "cell_type": "markdown",
   "id": "dfb48a40",
   "metadata": {},
   "source": [
    "## Sampling from Ising Model"
   ]
  },
  {
   "cell_type": "markdown",
   "id": "5961663f",
   "metadata": {},
   "source": [
    "### Functions"
   ]
  },
  {
   "cell_type": "code",
   "execution_count": 13,
   "id": "b45dc468",
   "metadata": {},
   "outputs": [],
   "source": [
    "# Define the Ising model energy function\n",
    "def spin_energy(spins, i,j, N, J, h):\n",
    "    E_interact = 0\n",
    "    E_field = 0\n",
    "\n",
    "    target_spin = spins[i,j]\n",
    "\n",
    "    neigh_coords = [(i-1, j), (i, j-1), (i+1, j), (i, j+1)]\n",
    "    neigh_coords = [coord for coord in neigh_coords \n",
    "                    if (coord[0] in range(N) and coord[1] in range(N))]\n",
    "    \n",
    "    neigh_spins = [spins[coord[0], coord[1]] for coord in neigh_coords]\n",
    "\n",
    "    for neigh_spin in neigh_spins:\n",
    "        E_interact -= J * target_spin * neigh_spin   # Nearest neighbor interactions\n",
    "    \n",
    "    E_field -= h * spins[i, j]  # External field\n",
    "\n",
    "    return E_interact, E_field\n",
    "\n",
    "\n",
    "def total_energy(spins, N, J, h):\n",
    "\n",
    "    for i in range(N):\n",
    "        for j in range(N):\n",
    "            E_interact, E_field = spin_energy(spins, i, j, N, J, h)\n",
    "\n",
    "    return E_interact + E_field\n",
    "\n",
    "def generate_state(N, state_index):\n",
    "    \"\"\"Generate a specific spin configuration for a lattice of size N x N\"\"\"\n",
    "    state_binary = np.binary_repr(state_index, width=N**2)\n",
    "    state_spins = [-1 if spin == '0' else 1 for spin in state_binary]\n",
    "    state = np.array(state_spins).reshape(N, N)\n",
    "    return state\n",
    "\n",
    "def generate_all_states(N):\n",
    "    \"\"\"Generate all possible spin configurations for a lattice of size N x N\"\"\"\n",
    "    num_states = 2 ** (N ** 2)  # Total number of states\n",
    "    os.makedirs(f\"data/processed/ising_states/{N}/\", exist_ok=True)\n",
    "    \n",
    "\n",
    "    # Generate and save states one by one\n",
    "    for state_index in range(num_states):\n",
    "        state = generate_state(N, state_index)\n",
    "\n",
    "        pickle_filename = f\"state_{state_index}.pkl\"\n",
    "        pickle_filepath = os.path.join(f\"data/processed/ising_states/{N}/\", pickle_filename)\n",
    "\n",
    "        with open(pickle_filepath, \"wb\") as pickle_file:\n",
    "            pickle.dump(state, pickle_file)\n",
    "\n",
    "    return None\n",
    "\n",
    "def calculate_probabilities_and_energies(N, J, h, T):\n",
    "    \"\"\"Calculate the probability and energy of each spin configuration\"\"\"\n",
    "    probabilities = []\n",
    "    energies = []\n",
    "    Z = 0  # Partition function\n",
    "\n",
    "    num_states = 2 ** (N ** 2)\n",
    "\n",
    "    for state_index in range(num_states):\n",
    "\n",
    "        state = generate_state(N, state_index)\n",
    "\n",
    "        energy = total_energy(state, N, J, h)\n",
    "        prob = np.exp(-energy / T)\n",
    "        Z += prob\n",
    "        probabilities.append(prob)\n",
    "        energies.append(energy)\n",
    "\n",
    "    probabilities = [prob / Z for prob in probabilities]  # Normalize probabilities\n",
    "    return probabilities, energies\n",
    "\n",
    "def order_states_by_probability(probabilities, energies):\n",
    "    \"\"\"Order the states based on their probabilities in descending order\"\"\"\n",
    "\n",
    "    states = list(range(len(probabilities)))  # State indices\n",
    "    state_prob_energy_pairs = list(zip(states, probabilities, energies))\n",
    "    state_prob_energy_pairs.sort(key=lambda x: x[1], reverse=True)\n",
    "    ordered_states = [pair[0] for pair in state_prob_energy_pairs]\n",
    "    ordered_probabilities = [pair[1] for pair in state_prob_energy_pairs]\n",
    "    ordered_energies = [pair[2] for pair in state_prob_energy_pairs]\n",
    "    return ordered_states, ordered_probabilities, ordered_energies\n",
    "\n",
    "def metropolis_hastings(ordered_states, ordered_probabilities, num_steps):\n",
    "    \"\"\"Perform the Metropolis-Hastings simulation using pre-computed states, probabilities, and energies\"\"\"\n",
    "    num_states = len(ordered_states)\n",
    "    current_state_index = 0  # Start with the first state\n",
    "    states = [current_state_index]  # Initialize with the current state index\n",
    "    transitions = np.zeros((num_states, num_states))  # Initialize the transition matrix\n",
    "\n",
    "    for step in range(num_steps):\n",
    "        proposed_state_index = np.random.randint(num_states)  # Propose a new state index\n",
    "        acceptance_probability = min(1, ordered_probabilities[proposed_state_index] / ordered_probabilities[current_state_index])\n",
    "\n",
    "        if np.random.rand() < acceptance_probability:\n",
    "            # Accept the proposed state\n",
    "            current_state_index = proposed_state_index\n",
    "\n",
    "        states.append(current_state_index)\n",
    "        transitions[current_state_index, proposed_state_index] += 1  # Update the transition matrix\n",
    "\n",
    "    return states, transitions"
   ]
  },
  {
   "cell_type": "code",
   "execution_count": null,
   "id": "a7aa43cc",
   "metadata": {},
   "outputs": [],
   "source": [
    "# Define the Ising model parameters\n",
    "N = 200  # Lattice size\n",
    "J = 1.0  # Interaction coefficient\n",
    "h = 1.0  # External field\n",
    "T = 2.0  # Temperature\n",
    "num_steps = 100000  # Number of steps in the Metropolis-Hastings simulation"
   ]
  },
  {
   "cell_type": "code",
   "execution_count": 16,
   "id": "335f84de",
   "metadata": {},
   "outputs": [
    {
     "ename": "OSError",
     "evalue": "[Errno 28] No space left on device: 'data/processed/ising_states/20/state_1762474.pkl'",
     "output_type": "error",
     "traceback": [
      "\u001b[31m---------------------------------------------------------------------------\u001b[39m",
      "\u001b[31mOSError\u001b[39m                                   Traceback (most recent call last)",
      "\u001b[36mCell\u001b[39m\u001b[36m \u001b[39m\u001b[32mIn[16]\u001b[39m\u001b[32m, line 1\u001b[39m\n\u001b[32m----> \u001b[39m\u001b[32m1\u001b[39m \u001b[43mgenerate_all_states\u001b[49m\u001b[43m(\u001b[49m\u001b[43mN\u001b[49m\u001b[43m)\u001b[49m\n",
      "\u001b[36mCell\u001b[39m\u001b[36m \u001b[39m\u001b[32mIn[13]\u001b[39m\u001b[32m, line 50\u001b[39m, in \u001b[36mgenerate_all_states\u001b[39m\u001b[34m(N)\u001b[39m\n\u001b[32m     47\u001b[39m     pickle_filename = \u001b[33mf\u001b[39m\u001b[33m\"\u001b[39m\u001b[33mstate_\u001b[39m\u001b[38;5;132;01m{\u001b[39;00mstate_index\u001b[38;5;132;01m}\u001b[39;00m\u001b[33m.pkl\u001b[39m\u001b[33m\"\u001b[39m\n\u001b[32m     48\u001b[39m     pickle_filepath = os.path.join(\u001b[33mf\u001b[39m\u001b[33m\"\u001b[39m\u001b[33mdata/processed/ising_states/\u001b[39m\u001b[38;5;132;01m{\u001b[39;00mN\u001b[38;5;132;01m}\u001b[39;00m\u001b[33m/\u001b[39m\u001b[33m\"\u001b[39m, pickle_filename)\n\u001b[32m---> \u001b[39m\u001b[32m50\u001b[39m     \u001b[38;5;28;01mwith\u001b[39;00m \u001b[38;5;28;43mopen\u001b[39;49m\u001b[43m(\u001b[49m\u001b[43mpickle_filepath\u001b[49m\u001b[43m,\u001b[49m\u001b[43m \u001b[49m\u001b[33;43m\"\u001b[39;49m\u001b[33;43mwb\u001b[39;49m\u001b[33;43m\"\u001b[39;49m\u001b[43m)\u001b[49m \u001b[38;5;28;01mas\u001b[39;00m pickle_file:\n\u001b[32m     51\u001b[39m         pickle.dump(state, pickle_file)\n\u001b[32m     53\u001b[39m \u001b[38;5;28;01mreturn\u001b[39;00m \u001b[38;5;28;01mNone\u001b[39;00m\n",
      "\u001b[36mFile \u001b[39m\u001b[32m/opt/conda/envs/bayesian-fuel-extremes/lib/python3.13/site-packages/IPython/core/interactiveshell.py:326\u001b[39m, in \u001b[36m_modified_open\u001b[39m\u001b[34m(file, *args, **kwargs)\u001b[39m\n\u001b[32m    319\u001b[39m \u001b[38;5;28;01mif\u001b[39;00m file \u001b[38;5;129;01min\u001b[39;00m {\u001b[32m0\u001b[39m, \u001b[32m1\u001b[39m, \u001b[32m2\u001b[39m}:\n\u001b[32m    320\u001b[39m     \u001b[38;5;28;01mraise\u001b[39;00m \u001b[38;5;167;01mValueError\u001b[39;00m(\n\u001b[32m    321\u001b[39m         \u001b[33mf\u001b[39m\u001b[33m\"\u001b[39m\u001b[33mIPython won\u001b[39m\u001b[33m'\u001b[39m\u001b[33mt let you open fd=\u001b[39m\u001b[38;5;132;01m{\u001b[39;00mfile\u001b[38;5;132;01m}\u001b[39;00m\u001b[33m by default \u001b[39m\u001b[33m\"\u001b[39m\n\u001b[32m    322\u001b[39m         \u001b[33m\"\u001b[39m\u001b[33mas it is likely to crash IPython. If you know what you are doing, \u001b[39m\u001b[33m\"\u001b[39m\n\u001b[32m    323\u001b[39m         \u001b[33m\"\u001b[39m\u001b[33myou can use builtins\u001b[39m\u001b[33m'\u001b[39m\u001b[33m open.\u001b[39m\u001b[33m\"\u001b[39m\n\u001b[32m    324\u001b[39m     )\n\u001b[32m--> \u001b[39m\u001b[32m326\u001b[39m \u001b[38;5;28;01mreturn\u001b[39;00m \u001b[43mio_open\u001b[49m\u001b[43m(\u001b[49m\u001b[43mfile\u001b[49m\u001b[43m,\u001b[49m\u001b[43m \u001b[49m\u001b[43m*\u001b[49m\u001b[43margs\u001b[49m\u001b[43m,\u001b[49m\u001b[43m \u001b[49m\u001b[43m*\u001b[49m\u001b[43m*\u001b[49m\u001b[43mkwargs\u001b[49m\u001b[43m)\u001b[49m\n",
      "\u001b[31mOSError\u001b[39m: [Errno 28] No space left on device: 'data/processed/ising_states/20/state_1762474.pkl'"
     ]
    }
   ],
   "source": [
    "generate_all_states(N)"
   ]
  },
  {
   "cell_type": "code",
   "execution_count": null,
   "id": "53fc57ce",
   "metadata": {},
   "outputs": [],
   "source": []
  }
 ],
 "metadata": {
  "kernelspec": {
   "display_name": "bayesian-fuel-extremes",
   "language": "python",
   "name": "python3"
  },
  "language_info": {
   "codemirror_mode": {
    "name": "ipython",
    "version": 3
   },
   "file_extension": ".py",
   "mimetype": "text/x-python",
   "name": "python",
   "nbconvert_exporter": "python",
   "pygments_lexer": "ipython3",
   "version": "3.13.2"
  }
 },
 "nbformat": 4,
 "nbformat_minor": 5
}
