{
 "cells": [
  {
   "cell_type": "markdown",
   "id": "a34477ef",
   "metadata": {},
   "source": [
    "## Ising Model Simulation and Bayesian Inference"
   ]
  },
  {
   "cell_type": "markdown",
   "id": "f9ca2a95",
   "metadata": {},
   "source": [
    "## Libraries"
   ]
  },
  {
   "cell_type": "code",
   "execution_count": 5,
   "id": "d2deb8b5",
   "metadata": {},
   "outputs": [],
   "source": [
    "import numpy as np\n",
    "import matplotlib.pyplot as plt\n",
    "from matplotlib import cm"
   ]
  },
  {
   "cell_type": "markdown",
   "id": "dfb48a40",
   "metadata": {},
   "source": [
    "## Sampling from Ising Model"
   ]
  },
  {
   "cell_type": "markdown",
   "id": "5961663f",
   "metadata": {},
   "source": [
    "### Functions"
   ]
  },
  {
   "cell_type": "code",
   "execution_count": null,
   "id": "b45dc468",
   "metadata": {},
   "outputs": [],
   "source": [
    "# Define the Ising model energy function\n",
    "def spin_energy(spins, i,j, N, J, h):\n",
    "    E_interact = 0\n",
    "    E_field = 0\n",
    "\n",
    "    target_spin = spins[i,j]\n",
    "\n",
    "    neigh_coords = [(i-1, j), (i, j-1), (i+1, j), (i, j+1)]\n",
    "    neigh_coords = [coord for coord in neigh_coords \n",
    "                    if (coord[0] in range(N) and coord[1] in range(N))]\n",
    "    \n",
    "    neigh_spins = [spins[coord[0], coord[1]] for coord in neigh_coords]\n",
    "\n",
    "    for neigh_spin in neigh_spins:\n",
    "        E_interact -= J * target_spin * neigh_spin   # Nearest neighbor interactions\n",
    "    \n",
    "    E_field -= h * spins[i, j]  # External field\n",
    "\n",
    "    return E_interact, E_field\n",
    "\n",
    "\n",
    "def total_energy(spins, N, J, h):\n",
    "\n",
    "    for i in range(N):\n",
    "        for j in range(N):\n",
    "            E_interact, E_field = spin_energy(spins, i, j, N, J, h)\n",
    "\n",
    "    return E_interact + E_field\n",
    "\n",
    "# Metropolis-Hastings sampling\n",
    "def metropolis_sampling(spins, N, J, h, T, num_steps):\n",
    "    for step in range(num_steps):\n",
    "        i, j = np.random.randint(N, size=2)\n",
    "\n",
    "        delta_E = (\n",
    "            2 * J * spins[i, j] * (spins[(i+1)%N, j] \n",
    "            + spins[i, (j+1)%N] + spins[(i-1)%N, j] \n",
    "            + spins[i, (j-1)%N]) + 2 * h * spins[i, j])\n",
    "        \n",
    "        if delta_E <= 0 or np.random.rand() < np.exp(-delta_E / T):\n",
    "            spins[i, j] *= -1\n",
    "\n",
    "    return spins"
   ]
  },
  {
   "cell_type": "code",
   "execution_count": null,
   "id": "a7aa43cc",
   "metadata": {},
   "outputs": [],
   "source": [
    "# Define the Ising model parameters\n",
    "N = 20  # Lattice size\n",
    "J = 1.0  # Interaction coefficient\n",
    "h = 0.0  # External field\n",
    "T = 2.0  # Temperature"
   ]
  },
  {
   "cell_type": "code",
   "execution_count": null,
   "id": "bf6456a0",
   "metadata": {},
   "outputs": [],
   "source": [
    "\n",
    "# Initialize the spin configuration\n",
    "spins = np.random.choice([-1, 1], size=(N, N))\n",
    "\n",
    "# Define the Ising model energy function\n",
    "def energy(spins):\n",
    "    E = 0.0\n",
    "    for i in range(N):\n",
    "        for j in range(N):\n",
    "            E -= J * spins[i, j] * (spins[(i+1)%N, j] + spins[i, (j+1)%N])  # Nearest neighbor interactions\n",
    "            E -= h * spins[i, j]  # External field\n",
    "    return E\n",
    "\n",
    "# Metropolis-Hastings sampling\n",
    "def metropolis_sampling(spins, T, num_steps):\n",
    "    for step in range(num_steps):\n",
    "        i, j = np.random.randint(N, size=2)\n",
    "        delta_E = 2 * J * spins[i, j] * (spins[(i+1)%N, j] + spins[i, (j+1)%N] + spins[(i-1)%N, j] + spins[i, (j-1)%N]) + 2 * h * spins[i, j]\n",
    "        if delta_E <= 0 or np.random.rand() < np.exp(-delta_E / T):\n",
    "            spins[i, j] *= -1\n",
    "\n",
    "    return spins\n",
    "\n",
    "# Run the simulation\n",
    "num_steps = 10000\n",
    "spins = metropolis_sampling(spins, T, num_steps)\n",
    "\n",
    "# Plot the spin configuration\n",
    "plt.figure(figsize=(6, 6))\n",
    "plt.imshow(spins, cmap=cm.bwr, vmin=-1, vmax=1)\n",
    "plt.colorbar()\n",
    "plt.show()"
   ]
  }
 ],
 "metadata": {
  "kernelspec": {
   "display_name": "bayesian-fuel-extremes",
   "language": "python",
   "name": "python3"
  },
  "language_info": {
   "codemirror_mode": {
    "name": "ipython",
    "version": 3
   },
   "file_extension": ".py",
   "mimetype": "text/x-python",
   "name": "python",
   "nbconvert_exporter": "python",
   "pygments_lexer": "ipython3",
   "version": "3.13.2"
  }
 },
 "nbformat": 4,
 "nbformat_minor": 5
}
